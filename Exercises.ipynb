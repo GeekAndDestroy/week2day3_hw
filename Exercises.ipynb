{
 "cells": [
  {
   "cell_type": "markdown",
   "metadata": {},
   "source": [
    "### Exercise 1"
   ]
  },
  {
   "cell_type": "markdown",
   "metadata": {},
   "source": [
    "Given an array of positive integers `nums`, return a list of all of the negative integers.<br>\n",
    "Ex. 1<br>\n",
    "nums = [1, 3, 5, 7, 8]<br>\n",
    "Expected Output: [-1, -3, -5, -7, -8]<br>\n",
    "\n",
    "Ex. 2<br>\n",
    "nums = [100, 534, 32, 15, 77, 222, 788, 345, 75645, 22]<br>\n",
    "Expected Output: [-100, -534, -32, -15, -77, -222, -788, -345, -75645, -22]<br>"
   ]
  },
  {
   "cell_type": "code",
   "execution_count": 6,
   "metadata": {},
   "outputs": [
    {
     "name": "stdout",
     "output_type": "stream",
     "text": [
      "[-1, -3, -5, -7, -8]\n",
      "[-100, -534, -32, -15, -77, -222, -788, -345, -75645, -22]\n",
      "Help on function invert_numbers in module __main__:\n",
      "\n",
      "invert_numbers(arr)\n",
      "    Takes in an array of positive numbers and returns an inverse value\n",
      "    arr -> must be a list containing int or float values\n",
      "\n"
     ]
    }
   ],
   "source": [
    "def invert_numbers(arr):\n",
    "    '''\n",
    "    Takes in an array of positive numbers and returns an inverse value\n",
    "    arr -> must be a list containing int or float values\n",
    "    '''\n",
    "    return [0 - num for num in arr]\n",
    "\n",
    "nums = [1, 3, 5, 7, 8]\n",
    "nums2 = [100, 534, 32, 15, 77, 222, 788, 345, 75645, 22]\n",
    "\n",
    "print(invert_numbers(nums))\n",
    "print(invert_numbers(nums2))\n",
    "help(invert_numbers)"
   ]
  },
  {
   "cell_type": "markdown",
   "metadata": {},
   "source": [
    "### Exercise 2"
   ]
  },
  {
   "cell_type": "markdown",
   "metadata": {},
   "source": [
    "Given a string, return a list of all of the digits in the string.<br>\n",
    "Ex. 1 <br>\n",
    "address = \"123 Real Street, Apt. 2, Springfield, OR 43498\"<br>\n",
    "Expected Output: ['1', '2', '3', '2', '4', '3', '4', '9', '8']<br>\n",
    "\n",
    "Ex. 2 <br>\n",
    "sentence = \"My phone number is (555) 555-4321\"<br>\n",
    "Expected Output: ['5', '5', '5', '5', '5', '5', '4', '3', '2', '1']<br>"
   ]
  },
  {
   "cell_type": "code",
   "execution_count": 14,
   "metadata": {},
   "outputs": [
    {
     "name": "stdout",
     "output_type": "stream",
     "text": [
      "['1', '2', '3', '2', '4', '3', '4', '9', '8']\n",
      "['5', '5', '5', '5', '5', '5', '4', '3', '2', '1']\n",
      "Help on function pull_nums in module __main__:\n",
      "\n",
      "pull_nums(add_str)\n",
      "    Pulls all numeric digits out of a string and returns them as a list\n",
      "    -> add_str must be a string\n",
      "\n"
     ]
    }
   ],
   "source": [
    "# Hint: Look at the string methods! -- help(str)\n",
    "def pull_nums(add_str):\n",
    "    '''\n",
    "    Pulls all numeric digits out of a string and returns them as a list\n",
    "    -> add_str must be a string\n",
    "    '''\n",
    "    num_list = [i for i in add_str if i.isdigit()]\n",
    "    return num_list\n",
    "\n",
    "address = \"123 Real Street, Apt. 2, Springfield, OR 43498\"\n",
    "sentence = \"My phone number is (555) 555-4321\"\n",
    "\n",
    "print(pull_nums(address))\n",
    "print(pull_nums(sentence))\n",
    "help(pull_nums)"
   ]
  },
  {
   "cell_type": "markdown",
   "metadata": {},
   "source": [
    "### Exercise 3"
   ]
  },
  {
   "cell_type": "markdown",
   "metadata": {},
   "source": [
    "Given a string `digits`, return a **string** of the digits + 1<br>\n",
    "\n",
    "Ex. 1<br>\n",
    "digits = '123'<br>\n",
    "Expected Output: '124'<br>\n",
    "\n",
    "Ex. 2<br>\n",
    "digits = '99'<br>\n",
    "Expected Output: '100'<br>"
   ]
  },
  {
   "cell_type": "code",
   "execution_count": 10,
   "metadata": {},
   "outputs": [
    {
     "name": "stdout",
     "output_type": "stream",
     "text": [
      "125 <class 'str'>\n",
      "100 <class 'str'>\n",
      "Help on function add_to_string in module __main__:\n",
      "\n",
      "add_to_string(num_str)\n",
      "    Takes in a number as a string, adds 1 to number, and returns number as a string again\n",
      "    num_str -> must be a numeric value written as a string\n",
      "\n"
     ]
    }
   ],
   "source": [
    "def add_to_string(num_str):\n",
    "    '''\n",
    "    Takes in a number as a string, adds 1 to number, and returns number as a string again\n",
    "    num_str -> must be a numeric value written as a string\n",
    "    '''\n",
    "    new_num = str(int(num_str)+1)\n",
    "    return new_num\n",
    "\n",
    "print(add_to_string('124'), type(add_to_string('124')))\n",
    "print(add_to_string('99'), type(add_to_string('99')))\n",
    "help(add_to_string)"
   ]
  }
 ],
 "metadata": {
  "kernelspec": {
   "display_name": "Python 3 (ipykernel)",
   "language": "python",
   "name": "python3"
  },
  "language_info": {
   "codemirror_mode": {
    "name": "ipython",
    "version": 3
   },
   "file_extension": ".py",
   "mimetype": "text/x-python",
   "name": "python",
   "nbconvert_exporter": "python",
   "pygments_lexer": "ipython3",
   "version": "3.11.5"
  }
 },
 "nbformat": 4,
 "nbformat_minor": 4
}
